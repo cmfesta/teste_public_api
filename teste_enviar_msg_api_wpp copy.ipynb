{
 "cells": [
  {
   "cell_type": "code",
   "execution_count": 33,
   "metadata": {},
   "outputs": [],
   "source": [
    "import requests\n",
    "import json"
   ]
  },
  {
   "cell_type": "code",
   "execution_count": null,
   "metadata": {},
   "outputs": [],
   "source": [
    "import requests\n",
    "\n",
    "r = requests.post(\"http://127.0.0.1:5000/maik\")\n",
    "myobj = {'messageText': {'text':'somevalue'},'recipient': {'id':'123'}}\n",
    "\n",
    "x = requests.post(\"http://127.0.0.1:5000/maik\", json = myobj)"
   ]
  },
  {
   "cell_type": "code",
   "execution_count": null,
   "metadata": {},
   "outputs": [],
   "source": [
    "secret = {\n",
    "        \"APP_ID\": \"898144499094484\",\n",
    "        \"APP_SECRET\": \"9c6b98cee688bbb57305bbbf60757e7e\",\n",
    "        \"TO_NUMBER\": \"5553991798189\",\n",
    "        \"VERSION\": \"v13.0\",\n",
    "        \"PHONE_NUMBER_ID\": \"518260918028868\",\n",
    "        \"ACCESS_TOKEN\": \"EAAMw24ZCTU9QBOxdat1NgmrrzzoecMxGeEa3FqBcKV9a3NCX2uZBluiqTljSprXDflHn54tOxKZAbZADbLUqexWKdXQjeZAX8dqlm7QkPeKJdmJgwh7Wz8uiSM55HYHIQSwS56Kg3y40PuIMlN3i3DkkEz6rCv1MDezxMaziDAB4To198urGC94svumahPDPFyCmfzKyaG6dZBlvw0gVkcZBZA90YZC6kSrwty98ZD\",\n",
    "    }\n",
    "\n",
    "headers = {\n",
    "        \"Content-type\": \"application/json\",\n",
    "        \"Authorization\": f\"Bearer {secret['ACCESS_TOKEN']}\",\n",
    "    }"
   ]
  },
  {
   "cell_type": "code",
   "execution_count": 35,
   "metadata": {},
   "outputs": [],
   "source": [
    "url = (\n",
    "            \"https://graph.facebook.com\"\n",
    "            + f\"/{secret['VERSION']}/{secret['PHONE_NUMBER_ID']}/messages\"\n",
    "        )"
   ]
  },
  {
   "cell_type": "code",
   "execution_count": 36,
   "metadata": {},
   "outputs": [],
   "source": [
    "data = json.dumps({\n",
    "            \"messaging_product\": \"whatsapp\",\n",
    "            \"preview_url\": False,\n",
    "            \"recipient_type\": \"individual\",\n",
    "            \"to\": secret['TO_NUMBER'],\n",
    "            \"type\": \"text\",\n",
    "            \"text\": {\"body\": \"testando wpp\"},\n",
    "        })"
   ]
  },
  {
   "cell_type": "code",
   "execution_count": 37,
   "metadata": {},
   "outputs": [
    {
     "data": {
      "text/plain": [
       "'{\"messaging_product\":\"whatsapp\",\"contacts\":[{\"input\":\"5553991798189\",\"wa_id\":\"555391798189\"}],\"messages\":[{\"id\":\"wamid.HBgMNTU1MzkxNzk4MTg5FQIAERgSNTFDMjM4MDJCODZENzFBRTI3AA==\"}]}'"
      ]
     },
     "execution_count": 37,
     "metadata": {},
     "output_type": "execute_result"
    }
   ],
   "source": [
    "r = requests.post(url, data=data, headers=headers)\n",
    "\n",
    "r.text"
   ]
  }
 ],
 "metadata": {
  "kernelspec": {
   "display_name": ".venv",
   "language": "python",
   "name": "python3"
  },
  "language_info": {
   "codemirror_mode": {
    "name": "ipython",
    "version": 3
   },
   "file_extension": ".py",
   "mimetype": "text/x-python",
   "name": "python",
   "nbconvert_exporter": "python",
   "pygments_lexer": "ipython3",
   "version": "3.12.3"
  }
 },
 "nbformat": 4,
 "nbformat_minor": 2
}
